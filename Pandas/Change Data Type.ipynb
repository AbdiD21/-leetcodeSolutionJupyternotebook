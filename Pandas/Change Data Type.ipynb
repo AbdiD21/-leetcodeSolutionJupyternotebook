{
 "cells": [
  {
   "cell_type": "markdown",
   "id": "8033aa4d",
   "metadata": {},
   "source": [
    "### 2886.Change Data Type"
   ]
  },
  {
   "cell_type": "code",
   "execution_count": 1,
   "id": "ba4f9567",
   "metadata": {},
   "outputs": [],
   "source": [
    "import pandas as pd\n",
    "\n",
    "def changeDatatype(students: pd.DataFrame) -> pd.DataFrame:\n",
    "    students['grade'] = students['grade'].astype(int)\n",
    "    return students\n",
    "# The time complexity is O(1) because the code accesses and modifies a single column in the DataFrame, regardless of the number of rows.\n",
    "\n",
    "# The space complexity is O(1) as well because the conversion is done in place, without requiring extra space proportional to the input size."
   ]
  }
 ],
 "metadata": {
  "kernelspec": {
   "display_name": "Python 3",
   "language": "python",
   "name": "python3"
  },
  "language_info": {
   "codemirror_mode": {
    "name": "ipython",
    "version": 3
   },
   "file_extension": ".py",
   "mimetype": "text/x-python",
   "name": "python",
   "nbconvert_exporter": "python",
   "pygments_lexer": "ipython3",
   "version": "3.13.2"
  }
 },
 "nbformat": 4,
 "nbformat_minor": 5
}
