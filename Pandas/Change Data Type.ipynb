{
 "cells": [
  {
   "cell_type": "markdown",
   "id": "8033aa4d",
   "metadata": {},
   "source": [
    "### 2886.Change Data Type"
   ]
  },
  {
   "cell_type": "code",
   "execution_count": null,
   "id": "ba4f9567",
   "metadata": {},
   "outputs": [],
   "source": [
    "import pandas as pd\n",
    "\n",
    "def changeDatatype(students: pd.DataFrame) -> pd.DataFrame:\n",
    "    students['grade'] = students['grade'].astype(int)\n",
    "    return students\n"
   ]
  },
  {
   "cell_type": "markdown",
   "id": "c91b9ac7",
   "metadata": {},
   "source": [
    "***Time and space complexity***"
   ]
  },
  {
   "cell_type": "markdown",
   "id": "53123337",
   "metadata": {},
   "source": [
    "The time complexity is O(1) because the code accesses and modifies a single column in the DataFrame, regardless of the number of rows.\n",
    "\n",
    "The space complexity is O(1) as well because the conversion is done in place, without requiring extra space proportional to the input size."
   ]
  },
  {
   "cell_type": "markdown",
   "id": "96dbe0fe",
   "metadata": {},
   "source": [
    "Example usage"
   ]
  },
  {
   "cell_type": "code",
   "execution_count": 5,
   "id": "74cc8e16",
   "metadata": {},
   "outputs": [
    {
     "name": "stdout",
     "output_type": "stream",
     "text": [
      "   student_id  name  age  grade\n",
      "0           1   Ava    6     73\n",
      "1           2  Kate   15     87\n",
      "student_id     int64\n",
      "name          object\n",
      "age            int64\n",
      "grade          int64\n",
      "dtype: object\n"
     ]
    }
   ],
   "source": [
    "import pandas as pd\n",
    "\n",
    "# Sample DataFrame as in the example\n",
    "data = {\n",
    "    'student_id': [1, 2],\n",
    "    'name': ['Ava', 'Kate'],\n",
    "    'age': [6, 15],\n",
    "    'grade': [73.0, 87.0]  # grade is float\n",
    "}\n",
    "\n",
    "students = pd.DataFrame(data)\n",
    "\n",
    "def changeDatatype(students: pd.DataFrame) -> pd.DataFrame:\n",
    "    students['grade'] = students['grade'].astype(int)\n",
    "    return students\n",
    "\n",
    "# Apply the function\n",
    "result = changeDatatype(students)\n",
    "\n",
    "print(result)\n",
    "print(result.dtypes)  # To verify the 'grade' column is now int\n"
   ]
  }
 ],
 "metadata": {
  "kernelspec": {
   "display_name": "Python 3",
   "language": "python",
   "name": "python3"
  },
  "language_info": {
   "codemirror_mode": {
    "name": "ipython",
    "version": 3
   },
   "file_extension": ".py",
   "mimetype": "text/x-python",
   "name": "python",
   "nbconvert_exporter": "python",
   "pygments_lexer": "ipython3",
   "version": "3.13.2"
  }
 },
 "nbformat": 4,
 "nbformat_minor": 5
}
