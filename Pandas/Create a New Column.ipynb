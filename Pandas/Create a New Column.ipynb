{
 "cells": [
  {
   "cell_type": "markdown",
   "id": "dd81fdcb",
   "metadata": {},
   "source": [
    "### 2881. **_Create a New Column_**\n"
   ]
  },
  {
   "cell_type": "markdown",
   "id": "f9799b36",
   "metadata": {},
   "source": [
    "Solution 1\n"
   ]
  },
  {
   "cell_type": "code",
   "execution_count": null,
   "id": "c42b0c90",
   "metadata": {},
   "outputs": [],
   "source": [
    "import pandas as pd\n",
    "\n",
    "\n",
    "def createBonusColumn(employees: pd.DataFrame) -> pd.DataFrame:\n",
    "    employees['bonus'] = employees['salary'] * 2\n",
    "    return employees"
   ]
  },
  {
   "cell_type": "markdown",
   "id": "36f961ba",
   "metadata": {},
   "source": [
    "**_Time and Space Complexity_**\n",
    "\n",
    "`Time Complexity`: O(n), where n is the number of rows in the DataFrame.\n",
    "\n",
    "`Space Complexity`: O(1). The operation is performed in place.\n"
   ]
  },
  {
   "cell_type": "markdown",
   "id": "b929c30b",
   "metadata": {},
   "source": [
    "Solution\n"
   ]
  },
  {
   "cell_type": "code",
   "execution_count": null,
   "id": "551dc8eb",
   "metadata": {},
   "outputs": [],
   "source": [
    "import pandas as pd\n",
    "\n",
    "\n",
    "def createBonusColumn(employees: pd.DataFrame) -> pd.DataFrame:\n",
    "    return employees.assign(bonus=2*employees[\"salary\"])\n",
    "\n",
    "# Time complexity  :  O(n)\n",
    "# Space complexity : O(1)"
   ]
  },
  {
   "cell_type": "markdown",
   "id": "9922b351",
   "metadata": {},
   "source": [
    "**_Exmaple usage_**\n"
   ]
  },
  {
   "cell_type": "code",
   "execution_count": null,
   "id": "51d3463e",
   "metadata": {},
   "outputs": [
    {
     "name": "stdout",
     "output_type": "stream",
     "text": [
      "      name  salary   bonus\n",
      "0    Piper    4548    9096\n",
      "1    Grace   28150   56300\n",
      "2  Georgia    1103    2206\n",
      "3   Willow    6593   13186\n",
      "4     Finn   74576  149152\n",
      "5   Thomas   24433   48866\n"
     ]
    }
   ],
   "source": [
    "import pandas as pd\n",
    "\n",
    "\n",
    "def createBonusColumn(employees: pd.DataFrame) -> pd.DataFrame:\n",
    "    employees['bonus'] = employees['salary'] * 2\n",
    "    return employees\n",
    "\n",
    "\n",
    "# Example Usage:\n",
    "data = {'name': ['Piper', 'Grace', 'Georgia', 'Willow', 'Finn', 'Thomas'],\n",
    "        'salary': [4548, 28150, 1103, 6593, 74576, 24433]}\n",
    "\n",
    "employees_df = pd.DataFrame(data)\n",
    "\n",
    "result = createBonusColumn(employees_df)\n",
    "print(result)"
   ]
  }
 ],
 "metadata": {
  "kernelspec": {
   "display_name": "Python 3",
   "language": "python",
   "name": "python3"
  },
  "language_info": {
   "codemirror_mode": {
    "name": "ipython",
    "version": 3
   },
   "file_extension": ".py",
   "mimetype": "text/x-python",
   "name": "python",
   "nbconvert_exporter": "python",
   "pygments_lexer": "ipython3",
   "version": "3.13.2"
  }
 },
 "nbformat": 4,
 "nbformat_minor": 5
}
