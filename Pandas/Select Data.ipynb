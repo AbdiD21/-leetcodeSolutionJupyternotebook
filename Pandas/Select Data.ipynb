{
 "cells": [
  {
   "cell_type": "markdown",
   "id": "9c040d30",
   "metadata": {},
   "source": [
    "### 2880. Select Data"
   ]
  },
  {
   "cell_type": "code",
   "execution_count": 1,
   "id": "bc2b1900",
   "metadata": {},
   "outputs": [],
   "source": [
    "import pandas as pd\n",
    "\n",
    "def selectData(students: pd.DataFrame) -> pd.DataFrame:\n",
    "    df = students[students['student_id'] == 101][['name', 'age']]\n",
    "    return df\n",
    "\n",
    "# Time Complexity: O(n), where n is the number of rows in the DataFrame.\n",
    "\n",
    "# Space Complexity: O(1). "
   ]
  },
  {
   "cell_type": "markdown",
   "id": "5638b434",
   "metadata": {},
   "source": [
    "##### Time and Space Complexity\n",
    "\n",
    "Time Complexity: O(n), where n is the number of rows in the DataFrame.\n",
    "\n",
    "Space Complexity: O(1). The space required for the new DataFrame df depends on the size of the output, which in this case is a single row with two columns ('name' and 'age'). Therefore, it uses a constant amount of extra space."
   ]
  },
  {
   "cell_type": "markdown",
   "id": "749b819e",
   "metadata": {},
   "source": [
    "***Example usage***"
   ]
  },
  {
   "cell_type": "code",
   "execution_count": 2,
   "id": "51f1e7fa",
   "metadata": {},
   "outputs": [
    {
     "name": "stdout",
     "output_type": "stream",
     "text": [
      "      name  age\n",
      "0  Ulysses   13\n"
     ]
    }
   ],
   "source": [
    "import pandas as pd\n",
    "\n",
    "def selectData(students: pd.DataFrame) -> pd.DataFrame:\n",
    "    df = students[students['student_id'] == 101][['name', 'age']]\n",
    "    return df\n",
    "\n",
    "# Example Usage:\n",
    "data = {'student_id': [101, 53, 128, 3],\n",
    "        'name': ['Ulysses', 'William', 'Henry', 'Henry'],\n",
    "        'age': [13, 10, 6, 11]}\n",
    "\n",
    "students_df = pd.DataFrame(data)\n",
    "\n",
    "result = selectData(students_df)\n",
    "print(result)\n"
   ]
  }
 ],
 "metadata": {
  "kernelspec": {
   "display_name": "Python 3",
   "language": "python",
   "name": "python3"
  },
  "language_info": {
   "codemirror_mode": {
    "name": "ipython",
    "version": 3
   },
   "file_extension": ".py",
   "mimetype": "text/x-python",
   "name": "python",
   "nbconvert_exporter": "python",
   "pygments_lexer": "ipython3",
   "version": "3.13.2"
  }
 },
 "nbformat": 4,
 "nbformat_minor": 5
}
