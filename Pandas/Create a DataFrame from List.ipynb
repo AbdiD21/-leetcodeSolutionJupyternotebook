{
 "cells": [
  {
   "cell_type": "markdown",
   "id": "0e2686e9",
   "metadata": {},
   "source": [
    "### 2877. Create a DataFrame from List\n"
   ]
  },
  {
   "cell_type": "markdown",
   "id": "c9aa1654",
   "metadata": {},
   "source": [
    "#### Solution 1"
   ]
  },
  {
   "cell_type": "code",
   "execution_count": null,
   "id": "76e43e59",
   "metadata": {},
   "outputs": [],
   "source": [
    "\n",
    "# Time complexity :  O(n)\n",
    "# Space complexity: O(n)\n",
    "\n",
    "import pandas as pd\n",
    "from typing import List\n",
    "\n",
    "def createDataframe(student_data):\n",
    "    \n",
    "    df = pd.DataFrame(student_data, columns=['student_id', 'age'])\n",
    "    return df"
   ]
  },
  {
   "cell_type": "markdown",
   "id": "31450075",
   "metadata": {},
   "source": [
    "#### Solution 2"
   ]
  },
  {
   "cell_type": "code",
   "execution_count": null,
   "id": "3f67108f",
   "metadata": {},
   "outputs": [],
   "source": [
    "\n",
    "# Time complexity :  O(n)\n",
    "# Space complexity : O(1)\n",
    "\n",
    "import pandas as pd\n",
    "\n",
    "\n",
    "# pandas\n",
    "def createDataframe(student_data: List[List[int]]) -> pd.DataFrame:\n",
    "    return pd.DataFrame(data=student_data,columns=[\"student_id\", \"age\"],)\n"
   ]
  },
  {
   "cell_type": "markdown",
   "id": "b426d8b6",
   "metadata": {},
   "source": [
    "#### Example Usage:"
   ]
  },
  {
   "cell_type": "code",
   "execution_count": null,
   "id": "19a4775b",
   "metadata": {},
   "outputs": [
    {
     "name": "stdout",
     "output_type": "stream",
     "text": [
      "   student_id  age\n",
      "0           1   15\n",
      "1           2   11\n",
      "2           3   11\n",
      "3           4   20\n"
     ]
    }
   ],
   "source": [
    "\n",
    "import pandas as pd\n",
    "from typing import List\n",
    "\n",
    "def createDataframe(student_data: List[List[int]]) -> pd.DataFrame:\n",
    "    df = pd.DataFrame(student_data, columns=['student_id', 'age'])\n",
    "    return df\n",
    "\n",
    "# Example Usage:\n",
    "student_data = [\n",
    "    [1, 15],\n",
    "    [2, 11],\n",
    "    [3, 11],\n",
    "    [4, 20]\n",
    "]\n",
    "\n",
    "df = createDataframe(student_data)\n",
    "print(df)\n",
    "\n",
    "# Time and Space Complexity Analysis:\n",
    "# Time Complexity: O(n) - Pandas iterates through each element in the input list once.\n",
    "# Space Complexity: O(n) - The DataFrame stores a copy of all input data.\n",
    "\n",
    "\"\"\"\n",
    "    Creates a pandas DataFrame from a list of lists.\n",
    "\n",
    "    Args:\n",
    "        student_data (List[List[int]]): A list of lists containing student data.\n",
    "\n",
    "    Returns:\n",
    "        pd.DataFrame: A DataFrame with columns 'student_id' and 'age'.\n",
    "    \"\"\"\n"
   ]
  }
 ],
 "metadata": {
  "kernelspec": {
   "display_name": "Python 3",
   "language": "python",
   "name": "python3"
  },
  "language_info": {
   "codemirror_mode": {
    "name": "ipython",
    "version": 3
   },
   "file_extension": ".py",
   "mimetype": "text/x-python",
   "name": "python",
   "nbconvert_exporter": "python",
   "pygments_lexer": "ipython3",
   "version": "3.13.2"
  }
 },
 "nbformat": 4,
 "nbformat_minor": 5
}
