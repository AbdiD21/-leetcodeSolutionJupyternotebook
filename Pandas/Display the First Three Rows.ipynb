{
 "cells": [
  {
   "cell_type": "markdown",
   "id": "66f887d2",
   "metadata": {},
   "source": [
    "### 2879. Display the First Three Rows\n"
   ]
  },
  {
   "cell_type": "markdown",
   "id": "b03cdc7f",
   "metadata": {},
   "source": [
    "***Solution***"
   ]
  },
  {
   "cell_type": "code",
   "execution_count": 1,
   "id": "0fc5152f",
   "metadata": {},
   "outputs": [],
   "source": [
    "import pandas as pd\n",
    "\n",
    "def selectFirstRows(employees: pd.DataFrame) -> pd.DataFrame:\n",
    "    return employees.head(3)\n",
    "# Time complexity: O(1)\n",
    "# Space complexity: O(1)"
   ]
  },
  {
   "cell_type": "markdown",
   "id": "fe923568",
   "metadata": {},
   "source": [
    "##### ***Time and Space Complexity:***\n",
    "\n",
    "Time Complexity: O(1)\n",
    "\n",
    "employees.head(3) accesses the first three rows directly. This operation typically takes constant time, regardless of the DataFrame's total size. It doesn't need to iterate through the entire DataFrame.\n",
    "\n",
    "Space Complexity: O(1)\n",
    "\n",
    "The function returns a new DataFrame with a fixed number of rows (3). The space used does not scale with the size of the input DataFrame.\n",
    "\n",
    "Therefore, the space complexity is constant.\n",
    "\n"
   ]
  },
  {
   "cell_type": "code",
   "execution_count": 3,
   "id": "6f85d017",
   "metadata": {},
   "outputs": [
    {
     "name": "stdout",
     "output_type": "stream",
     "text": [
      "   employee_id     name   department  salary\n",
      "0            3      Bob   Operations   48675\n",
      "1           90    Alice        Sales   11096\n",
      "2            9  Tatiana  Engineering   33805\n"
     ]
    }
   ],
   "source": [
    "import pandas as pd\n",
    "\n",
    "def selectFirstRows(employees: pd.DataFrame) -> pd.DataFrame:\n",
    "    \"\"\"\n",
    "    Selects the first 3 rows of the DataFrame.\n",
    "\n",
    "    Args:\n",
    "        employees (pd.DataFrame): The input DataFrame.\n",
    "\n",
    "    Returns:\n",
    "        pd.DataFrame: A DataFrame containing the first 3 rows.\n",
    "    \"\"\"\n",
    "    return employees.head(3)\n",
    "\n",
    "# Example Usage:\n",
    "data = {'employee_id': [3, 90, 9, 60, 49, 43],\n",
    "        'name': ['Bob', 'Alice', 'Tatiana', 'Annabelle', 'Jonathan', 'Khaled'],\n",
    "        'department': ['Operations', 'Sales', 'Engineering', 'InformationTechnology', 'HumanResources', 'Administration'],\n",
    "        'salary': [48675, 11096, 33805, 37678, 23793, 40454]}\n",
    "employees_df = pd.DataFrame(data)\n",
    "\n",
    "first_three_rows = selectFirstRows(employees_df)\n",
    "print(first_three_rows)\n"
   ]
  }
 ],
 "metadata": {
  "kernelspec": {
   "display_name": "Python 3",
   "language": "python",
   "name": "python3"
  },
  "language_info": {
   "codemirror_mode": {
    "name": "ipython",
    "version": 3
   },
   "file_extension": ".py",
   "mimetype": "text/x-python",
   "name": "python",
   "nbconvert_exporter": "python",
   "pygments_lexer": "ipython3",
   "version": "3.13.2"
  }
 },
 "nbformat": 4,
 "nbformat_minor": 5
}
