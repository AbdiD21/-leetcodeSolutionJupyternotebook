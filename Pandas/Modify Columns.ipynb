{
 "cells": [
  {
   "cell_type": "markdown",
   "id": "a8b61cb7",
   "metadata": {},
   "source": [
    "### 2884.Mosify Columns\n"
   ]
  },
  {
   "cell_type": "code",
   "execution_count": null,
   "id": "670a7262",
   "metadata": {},
   "outputs": [],
   "source": [
    "import pandas as pd\n",
    "\n",
    "\n",
    "def modifySalaryColumn(employees: pd.DataFrame) -> pd.DataFrame:\n",
    "    # Double the salary column\n",
    "    employees['salary'] = employees['salary'] * 2\n",
    "    return employees"
   ]
  },
  {
   "cell_type": "markdown",
   "id": "48285f07",
   "metadata": {},
   "source": [
    "The time and space complexity of the `modifySalaryColumn` function can be analyzed as follows:\n",
    "\n",
    "#### Time Complexity\n",
    "\n",
    "- The operation `employees['salary'] * 2` involves iterating through each element in the `salary` column.\n",
    "- If there are \\( n \\) employees (rows), the time complexity is \\( O(n) \\).\n",
    "\n",
    "#### Space Complexity\n",
    "\n",
    "- The function modifies the `salary` column in place, meaning it does not create an additional DataFrame or list to store the results.\n",
    "- Therefore, the space complexity is \\( O(1) \\) since no additional space is required that scales with the size of the input.\n",
    "\n",
    "#### Summary\n",
    "\n",
    "- **Time Complexity:** \\( O(n) \\)\n",
    "- **Space Complexity:** \\( O(1) \\)\n"
   ]
  },
  {
   "cell_type": "markdown",
   "id": "c45ac6a8",
   "metadata": {},
   "source": [
    "Example Usage:\n"
   ]
  },
  {
   "cell_type": "code",
   "execution_count": 3,
   "id": "d80b9e1f",
   "metadata": {},
   "outputs": [
    {
     "name": "stdout",
     "output_type": "stream",
     "text": [
      "      name  salary\n",
      "0     Jack   39320\n",
      "1    Piper  149508\n",
      "2      Mia  291936\n",
      "3  Ulysses  250216\n"
     ]
    }
   ],
   "source": [
    "# Example DataFrame\n",
    "data = {\n",
    "    'name': ['Jack', 'Piper', 'Mia', 'Ulysses'],\n",
    "    'salary': [19660, 74754, 145968, 125108]\n",
    "}\n",
    "employees = pd.DataFrame(data)\n",
    "\n",
    "# Modify salaries\n",
    "updated_employees = modifySalaryColumn(employees)\n",
    "print(updated_employees)"
   ]
  }
 ],
 "metadata": {
  "kernelspec": {
   "display_name": "Python 3",
   "language": "python",
   "name": "python3"
  },
  "language_info": {
   "codemirror_mode": {
    "name": "ipython",
    "version": 3
   },
   "file_extension": ".py",
   "mimetype": "text/x-python",
   "name": "python",
   "nbconvert_exporter": "python",
   "pygments_lexer": "ipython3",
   "version": "3.13.2"
  }
 },
 "nbformat": 4,
 "nbformat_minor": 5
}
