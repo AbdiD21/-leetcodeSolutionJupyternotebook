{
 "cells": [
  {
   "cell_type": "markdown",
   "id": "606c6ee1",
   "metadata": {},
   "source": [
    "### 2882. Drop Missing Data"
   ]
  },
  {
   "cell_type": "code",
   "execution_count": 2,
   "id": "73aba5fe",
   "metadata": {},
   "outputs": [],
   "source": [
    "import pandas as pd\n",
    "\n",
    "def dropMissingData(students: pd.DataFrame) -> pd.DataFrame:\n",
    "    df = students.dropna(subset=['name'])\n",
    "    return df"
   ]
  },
  {
   "cell_type": "markdown",
   "id": "37ba892f",
   "metadata": {},
   "source": [
    "Time and Space Complexity\n",
    "\n",
    "Time Complexity: O(n), \n",
    "\n",
    "where n is the number of rows in the DataFrame. This is because the dropna method needs to potentially examine each row in the DataFrame to identify and remove rows with missing values in the specified column ('name').\n",
    "\n",
    "Space Complexity: O(1) \n",
    "\n",
    "if the operation is performed in place. However, since the function creates a new DataFrame (df), the space complexity is O(n) in the worst case, where no rows have missing values and the entire DataFrame is copied."
   ]
  },
  {
   "cell_type": "markdown",
   "id": "b992830b",
   "metadata": {},
   "source": [
    "Example"
   ]
  },
  {
   "cell_type": "code",
   "execution_count": 1,
   "id": "a9f7930a",
   "metadata": {},
   "outputs": [
    {
     "name": "stdout",
     "output_type": "stream",
     "text": [
      "   student_id     name  age\n",
      "0          32    Piper    5\n",
      "2         779  Georgia   20\n",
      "3         849   Willow   14\n"
     ]
    }
   ],
   "source": [
    "import pandas as pd\n",
    "\n",
    "def dropMissingData(students: pd.DataFrame) -> pd.DataFrame:\n",
    "    df = students.dropna(subset=['name'])\n",
    "    return df\n",
    "\n",
    "data = {'student_id': [32, 217, 779, 849],\n",
    "        'name': ['Piper', None, 'Georgia', 'Willow'],\n",
    "        'age': [5, 19, 20, 14]}\n",
    "\n",
    "students_df = pd.DataFrame(data)\n",
    "\n",
    "result_df = dropMissingData(students_df)\n",
    "print(result_df)\n"
   ]
  }
 ],
 "metadata": {
  "kernelspec": {
   "display_name": "Python 3",
   "language": "python",
   "name": "python3"
  },
  "language_info": {
   "codemirror_mode": {
    "name": "ipython",
    "version": 3
   },
   "file_extension": ".py",
   "mimetype": "text/x-python",
   "name": "python",
   "nbconvert_exporter": "python",
   "pygments_lexer": "ipython3",
   "version": "3.13.2"
  }
 },
 "nbformat": 4,
 "nbformat_minor": 5
}
