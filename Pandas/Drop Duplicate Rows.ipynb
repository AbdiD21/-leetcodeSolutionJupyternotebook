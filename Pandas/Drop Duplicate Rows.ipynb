{
 "cells": [
  {
   "cell_type": "markdown",
   "id": "55fe048e",
   "metadata": {},
   "source": [
    "### 2883. Drop Missing Data ------ leetcode"
   ]
  },
  {
   "cell_type": "code",
   "execution_count": null,
   "id": "6a0097a2",
   "metadata": {},
   "outputs": [],
   "source": [
    "import pandas as pd\n",
    "\n",
    "def dropDuplicateEmails(customers: pd.DataFrame) -> pd.DataFrame:\n",
    "    return customers.drop_duplicates(subset=['email'], keep='first')"
   ]
  },
  {
   "cell_type": "markdown",
   "id": "e46b940b",
   "metadata": {},
   "source": [
    "\n",
    "##### Time and space complexity\n",
    "\n",
    "Time Complexity\n",
    "\n",
    "O(n): This means the time it takes to drop duplicate emails grows linearly with the number of customers. If you have more customers, it takes more time, but not drastically more.\n",
    "\n",
    "Space Complexity\n",
    "\n",
    "O(n): This means the amount of extra memory needed also grows linearly with the number of customers. If you have more customers, you'll need more memory to store the unique emails.\n",
    "\n",
    "Summary\n",
    "\n",
    "Both time and space complexity for dropping duplicate emails are O(n), where n is the number of rows (customers) in the DataFrame. So, it's efficient even with a large number of customers!\n",
    "\n",
    "- Time Complexity: O(n)\n",
    "- Space Complexity: O(n)"
   ]
  },
  {
   "cell_type": "markdown",
   "id": "1f55dc1c",
   "metadata": {},
   "source": [
    "Example"
   ]
  },
  {
   "cell_type": "code",
   "execution_count": 1,
   "id": "b4d71701",
   "metadata": {},
   "outputs": [
    {
     "name": "stdout",
     "output_type": "stream",
     "text": [
      "   customer_id     name                email\n",
      "0            1     Ella    emily@example.com\n",
      "1            2    David  michael@example.com\n",
      "2            3  Zachary    sarah@example.com\n",
      "3            4    Alice     john@example.com\n",
      "5            6   Violet    alice@example.com\n"
     ]
    }
   ],
   "source": [
    "import pandas as pd\n",
    "\n",
    "# Example input DataFrame\n",
    "data = {\n",
    "    'customer_id': [1, 2, 3, 4, 5, 6],\n",
    "    'name': ['Ella', 'David', 'Zachary', 'Alice', 'Finn', 'Violet'],\n",
    "    'email': [\n",
    "        'emily@example.com',\n",
    "        'michael@example.com',\n",
    "        'sarah@example.com',\n",
    "        'john@example.com',\n",
    "        'john@example.com',\n",
    "        'alice@example.com'\n",
    "    ]\n",
    "}\n",
    "\n",
    "customers = pd.DataFrame(data)\n",
    "\n",
    "def dropDuplicateEmails(customers: pd.DataFrame) -> pd.DataFrame:\n",
    "    return customers.drop_duplicates(subset=['email'], keep='first')\n",
    "\n",
    "# Apply the function\n",
    "result = dropDuplicateEmails(customers)\n",
    "print(result)\n"
   ]
  }
 ],
 "metadata": {
  "kernelspec": {
   "display_name": "Python 3",
   "language": "python",
   "name": "python3"
  },
  "language_info": {
   "codemirror_mode": {
    "name": "ipython",
    "version": 3
   },
   "file_extension": ".py",
   "mimetype": "text/x-python",
   "name": "python",
   "nbconvert_exporter": "python",
   "pygments_lexer": "ipython3",
   "version": "3.13.2"
  }
 },
 "nbformat": 4,
 "nbformat_minor": 5
}
