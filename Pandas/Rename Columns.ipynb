{
 "cells": [
  {
   "cell_type": "markdown",
   "id": "8962af46",
   "metadata": {},
   "source": [
    "### 2885.Rename Columns"
   ]
  },
  {
   "cell_type": "code",
   "execution_count": 2,
   "id": "efe55879",
   "metadata": {},
   "outputs": [],
   "source": [
    "import pandas as pd\n",
    "\n",
    "def renameColumns(students: pd.DataFrame) -> pd.DataFrame:\n",
    "    # Rename the columns\n",
    "    students = students.rename(columns={\n",
    "        'id': 'student_id',\n",
    "        'first': 'first_name',\n",
    "        'last': 'last_name',\n",
    "        'age': 'age_in_years'\n",
    "    })\n",
    "    return students\n"
   ]
  },
  {
   "cell_type": "markdown",
   "id": "8a05a050",
   "metadata": {},
   "source": [
    "The time and space complexity of the `renameColumns` function can be analyzed as follows:\n",
    "\n",
    "##### Time Complexity\n",
    "- The operation `students.rename(columns={...})` involves looking up each column name in the mapping dictionary and renaming it accordingly.\n",
    "- If there are \\( n \\) rows in the DataFrame, the renaming process itself is \\( O(1) \\) because it operates on the column names, not the rows.\n",
    "- Thus, the overall time complexity is \\( O(1) \\) for the renaming operation.\n",
    "\n",
    "##### Space Complexity\n",
    "- The function creates a new DataFrame with renamed columns, but it does not create any additional data structures that scale with the input size.\n",
    "- Therefore, the space complexity is \\( O(1) \\), as it only modifies the column metadata.\n",
    "\n",
    "##### Summary\n",
    "- **Time Complexity:** \\( O(1) \\)\n",
    "- **Space Complexity:** \\( O(1) \\)"
   ]
  },
  {
   "cell_type": "markdown",
   "id": "9f05e97c",
   "metadata": {},
   "source": [
    "### Example usage"
   ]
  },
  {
   "cell_type": "code",
   "execution_count": null,
   "id": "d39e6af2",
   "metadata": {},
   "outputs": [],
   "source": [
    "# Example DataFrame\n",
    "data = {\n",
    "    'id': [1, 2, 3, 4],\n",
    "    'first': ['Mason', 'Kira', 'Georgia', 'Thomas'],\n",
    "    'last': ['King', 'Wright', 'Thompson', 'Hall'],\n",
    "    'age': [17, 18, 16, 19]\n",
    "}\n",
    "students = pd.DataFrame(data)\n",
    "\n",
    "# Rename columns\n",
    "renamed_students = renameColumns(students)\n",
    "print(renamed_students)\n"
   ]
  }
 ],
 "metadata": {
  "kernelspec": {
   "display_name": "Python 3",
   "language": "python",
   "name": "python3"
  },
  "language_info": {
   "codemirror_mode": {
    "name": "ipython",
    "version": 3
   },
   "file_extension": ".py",
   "mimetype": "text/x-python",
   "name": "python",
   "nbconvert_exporter": "python",
   "pygments_lexer": "ipython3",
   "version": "3.13.2"
  }
 },
 "nbformat": 4,
 "nbformat_minor": 5
}
