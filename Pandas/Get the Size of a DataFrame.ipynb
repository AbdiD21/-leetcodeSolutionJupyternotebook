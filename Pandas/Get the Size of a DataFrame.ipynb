{
 "cells": [
  {
   "cell_type": "markdown",
   "id": "e398e1e4",
   "metadata": {},
   "source": [
    "### 2878. Get the Size of a DataFrame\n"
   ]
  },
  {
   "cell_type": "markdown",
   "id": "5e40dea3",
   "metadata": {},
   "source": [
    "***Solution 1***"
   ]
  },
  {
   "cell_type": "code",
   "execution_count": null,
   "id": "a4369589",
   "metadata": {},
   "outputs": [],
   "source": [
    "import pandas as pd\n",
    "from typing import List\n",
    "\n",
    "def getDataframeSize(players: pd.DataFrame) -> List[int]:\n",
    "    rows, cols = players.shape\n",
    "    return [rows, cols]\n",
    "\n",
    "# Time complexity: O(1)\n",
    "# Space complexity: O(1)\n"
   ]
  },
  {
   "cell_type": "markdown",
   "id": "4274f42c",
   "metadata": {},
   "source": [
    "##### Time and Space Complexity:\n",
    "\n",
    "Time Complexity: O(1)\n",
    "\n",
    "- The .shape attribute is pre-computed and stored with the DataFrame, so accessing it takes constant time.\n",
    "\n",
    "- Creating the list [rows, cols] also takes constant time.\n",
    "\n",
    "Space Complexity: O(1)\n",
    "\n",
    "- The function only creates a fixed-size list of two integers, regardless of the DataFrame's size.\n",
    "\n",
    "- It doesn't use any additional memory that scales with the input size."
   ]
  },
  {
   "cell_type": "markdown",
   "id": "a659b113",
   "metadata": {},
   "source": [
    "***Solution 2***\n",
    "\n",
    "This solution is the best"
   ]
  },
  {
   "cell_type": "code",
   "execution_count": null,
   "id": "9a5bee91",
   "metadata": {},
   "outputs": [],
   "source": [
    "import pandas as pd\n",
    "def getDataframeSize(players: pd.DataFrame) -> List[int]:\n",
    "    return list(players.shape)\n",
    "\n",
    "# Time complexity: O(1)\n",
    "# Space complexity: O(1)"
   ]
  },
  {
   "cell_type": "markdown",
   "id": "01b13fce",
   "metadata": {},
   "source": [
    "Example usage "
   ]
  },
  {
   "cell_type": "code",
   "execution_count": 2,
   "id": "b8aee844",
   "metadata": {},
   "outputs": [
    {
     "name": "stdout",
     "output_type": "stream",
     "text": [
      "[10, 5]\n"
     ]
    }
   ],
   "source": [
    "import pandas as pd\n",
    "from typing import List\n",
    "\n",
    "def getDataframeSize(players: pd.DataFrame) -> List[int]:\n",
    "    rows, cols = players.shape\n",
    "    return [rows, cols]\n",
    "\n",
    "# Example Usage:\n",
    "data = {'player_id': [846, 749, 155, 583, 388, 883, 355, 247, 761, 642],\n",
    "        'name': ['Mason', 'Riley', 'Bob', 'Isabella', 'Zachary', 'Ava', 'Violet', 'Thomas', 'Jack', 'Charlie'],\n",
    "        'age': [21, 30, 28, 32, 24, 23, 18, 27, 33, 36],\n",
    "        'position': ['Forward', 'Winger', 'Striker', 'Goalkeeper', 'Midfielder', 'Defender', 'Striker', 'Striker', 'Midfielder', 'Center-back'],\n",
    "        'team': ['RealMadrid', 'Barcelona', 'ManchesterUnited', 'Liverpool', 'BayernMunich', 'Chelsea', 'Juventus', 'ParisSaint-Germain', 'ManchesterCity', 'Arsenal']}\n",
    "players_df = pd.DataFrame(data)\n",
    "\n",
    "size = getDataframeSize(players_df)\n",
    "print(size)  # Output: [10, 5]\n"
   ]
  }
 ],
 "metadata": {
  "kernelspec": {
   "display_name": "Python 3",
   "language": "python",
   "name": "python3"
  },
  "language_info": {
   "codemirror_mode": {
    "name": "ipython",
    "version": 3
   },
   "file_extension": ".py",
   "mimetype": "text/x-python",
   "name": "python",
   "nbconvert_exporter": "python",
   "pygments_lexer": "ipython3",
   "version": "3.13.2"
  }
 },
 "nbformat": 4,
 "nbformat_minor": 5
}
