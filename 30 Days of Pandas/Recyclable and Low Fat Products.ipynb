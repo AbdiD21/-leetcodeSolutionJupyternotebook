{
 "cells": [
  {
   "cell_type": "markdown",
   "id": "35fa5620",
   "metadata": {},
   "source": []
  },
  {
   "cell_type": "code",
   "execution_count": 1,
   "id": "4905dd5a",
   "metadata": {},
   "outputs": [],
   "source": [
    "import pandas as pd\n",
    "\n",
    "def find_products(products: pd.DataFrame) -> pd.DataFrame:\n",
    "    # Filter for rows where both 'low_fats' and 'recyclable' are 'Y'\n",
    "    result = products[(products['low_fats'] == 'Y') & (products['recyclable'] == 'Y')]\n",
    "    # Return only the 'product_id' column\n",
    "    return result[['product_id']]\n"
   ]
  },
  {
   "cell_type": "markdown",
   "id": "08468c59",
   "metadata": {},
   "source": [
    "Time and Space Complexity\n",
    "\n",
    "Time Complexity:\n",
    "        The filtering operation involves scanning through the DataFrame once, which takes O(n) time, where n is the number of rows in the DataFrame.\n",
    "\n",
    "Space Complexity:\n",
    "        The space complexity is O(k), where k is the number of rows that satisfy the filtering condition. In addition, some constant space is used for the DataFrame and any temporary variables.\n"
   ]
  },
  {
   "cell_type": "markdown",
   "id": "2432d8d1",
   "metadata": {},
   "source": [
    "***Example usage***"
   ]
  },
  {
   "cell_type": "code",
   "execution_count": 2,
   "id": "db0502d9",
   "metadata": {},
   "outputs": [
    {
     "name": "stdout",
     "output_type": "stream",
     "text": [
      "   product_id\n",
      "0           0\n",
      "1           1\n"
     ]
    }
   ],
   "source": [
    "\n",
    "products_df = pd.DataFrame({'product_id': [0, 1, 2, 3, 4],\n",
    "                            'low_fats': ['Y', 'Y', 'N', 'Y', 'N'],\n",
    "                            'recyclable': ['Y', 'Y', 'N', 'N', 'N']\n",
    "                            })\n",
    "print(find_products(products_df))"
   ]
  }
 ],
 "metadata": {
  "kernelspec": {
   "display_name": "Python 3",
   "language": "python",
   "name": "python3"
  },
  "language_info": {
   "codemirror_mode": {
    "name": "ipython",
    "version": 3
   },
   "file_extension": ".py",
   "mimetype": "text/x-python",
   "name": "python",
   "nbconvert_exporter": "python",
   "pygments_lexer": "ipython3",
   "version": "3.13.2"
  }
 },
 "nbformat": 4,
 "nbformat_minor": 5
}
