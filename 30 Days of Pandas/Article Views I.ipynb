{
 "cells": [
  {
   "cell_type": "markdown",
   "id": "de0d4ca4",
   "metadata": {},
   "source": [
    "## ***1148.Article Views I***"
   ]
  },
  {
   "cell_type": "code",
   "execution_count": null,
   "id": "94a5ff5a",
   "metadata": {},
   "outputs": [],
   "source": []
  },
  {
   "cell_type": "markdown",
   "id": "a5bfffd1",
   "metadata": {},
   "source": [
    "***Time and Space Complexity***"
   ]
  }
 ],
 "metadata": {
  "language_info": {
   "name": "python"
  }
 },
 "nbformat": 4,
 "nbformat_minor": 5
}
