{
 "cells": [
  {
   "cell_type": "markdown",
   "id": "de0d4ca4",
   "metadata": {},
   "source": [
    "## ***1148.Article Views I***"
   ]
  },
  {
   "cell_type": "code",
   "execution_count": 3,
   "id": "94a5ff5a",
   "metadata": {},
   "outputs": [],
   "source": [
    "import pandas as pd\n",
    "\n",
    "def article_views(views: pd.DataFrame) -> pd.DataFrame:\n",
    "    # Filter rows where author_id == viewer_id (author viewed their own article)\n",
    "    filtered = views[views['author_id'] == views['viewer_id']]\n",
    "    # Select unique author_ids and rename to 'id'\n",
    "    result = filtered[['author_id']].drop_duplicates().rename(columns={'author_id': 'id'})\n",
    "    # Sort by 'id' in ascending order\n",
    "    result = result.sort_values('id').reset_index(drop=True)\n",
    "    return result\n"
   ]
  },
  {
   "cell_type": "markdown",
   "id": "a5bfffd1",
   "metadata": {},
   "source": [
    "***Time and Space Complexity***"
   ]
  },
  {
   "cell_type": "markdown",
   "id": "bd71e7e2",
   "metadata": {},
   "source": [
    "**Time Complexity**\n",
    "\n",
    "Let n be the number of rows in the input DataFrame views.\n",
    "\n",
    "1. Filtering (views['author_id'] == views['viewer_id']):\n",
    "\n",
    "    - This is a vectorized comparison across n rows.\n",
    "\n",
    "    - O(n)\n",
    "\n",
    "2. Selecting and Renaming Columns:\n",
    "\n",
    "    - Selecting a column and renaming is O(n).\n",
    "\n",
    "3. Dropping Duplicates (drop_duplicates):\n",
    "\n",
    "    - In the worst case, all rows are unique, so it checks all n rows.\n",
    "\n",
    "    - O(n) (pandas uses hash tables for this operation)\n",
    "\n",
    "4. Sorting (sort_values):\n",
    "\n",
    "    - Sorting k unique author_ids, where k ≤ n.\n",
    "\n",
    "    - O(k log k)\n",
    "\n",
    "5. Resetting Index:\n",
    "\n",
    "    - Linear in number of rows, O(k).\n",
    "\n",
    "**Total Time Complexity:**\n",
    "\n",
    "O(n + k log k)\n",
    "\n",
    "Since k ≤ n, the dominant term is O(n log n) in the worst case.\n",
    "\n",
    "**Space Complexity**\n",
    "\n",
    "1. Filtering:\n",
    "\n",
    "    - Creates a boolean mask of length n (O(n)), and a filtered DataFrame (up to n rows).\n",
    "\n",
    "2. Dropping Duplicates:\n",
    "\n",
    "    - Stores up to n unique author_ids (O(n)).\n",
    "\n",
    "3. Sorting and Resetting Index:\n",
    "\n",
    "    - Stores up to n unique ids (O(n)).\n"
   ]
  },
  {
   "cell_type": "markdown",
   "id": "add30c09",
   "metadata": {},
   "source": [
    "Example Usage"
   ]
  },
  {
   "cell_type": "code",
   "execution_count": 2,
   "id": "4f73a9cf",
   "metadata": {},
   "outputs": [
    {
     "name": "stdout",
     "output_type": "stream",
     "text": [
      "   id\n",
      "0   4\n",
      "1   7\n"
     ]
    }
   ],
   "source": [
    "import pandas as pd\n",
    "\n",
    "data = {\n",
    "    'article_id': [1, 1, 2, 2, 3, 3, 3],\n",
    "    'author_id':  [3, 3, 7, 7, 4, 4, 4],\n",
    "    'viewer_id':  [5, 6, 7, 6, 1, 4, 4],\n",
    "    'view_date': [\n",
    "        '2019-08-01', '2019-08-02', '2019-08-01', '2019-08-02',\n",
    "        '2019-07-22', '2019-07-21', '2019-07-21'\n",
    "    ]\n",
    "}\n",
    "\n",
    "views = pd.DataFrame(data)\n",
    "\n",
    "def article_views(views: pd.DataFrame) -> pd.DataFrame:\n",
    "    result = views[views['author_id'] == views['viewer_id']]\n",
    "    result = result[['author_id']].drop_duplicates().rename(columns={'author_id': 'id'})\n",
    "    result = result.sort_values('id').reset_index(drop=True)\n",
    "    return result\n",
    "\n",
    "output = article_views(views)\n",
    "print(output)\n"
   ]
  }
 ],
 "metadata": {
  "kernelspec": {
   "display_name": "Python 3",
   "language": "python",
   "name": "python3"
  },
  "language_info": {
   "codemirror_mode": {
    "name": "ipython",
    "version": 3
   },
   "file_extension": ".py",
   "mimetype": "text/x-python",
   "name": "python",
   "nbconvert_exporter": "python",
   "pygments_lexer": "ipython3",
   "version": "3.13.2"
  }
 },
 "nbformat": 4,
 "nbformat_minor": 5
}
