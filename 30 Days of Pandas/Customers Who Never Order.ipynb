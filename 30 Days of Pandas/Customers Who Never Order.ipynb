{
 "cells": [
  {
   "cell_type": "markdown",
   "id": "13e6b3be",
   "metadata": {},
   "source": [
    "### ***183. Customers Who Never Order***\n"
   ]
  }
 ],
 "metadata": {
  "language_info": {
   "name": "python"
  }
 },
 "nbformat": 4,
 "nbformat_minor": 5
}
