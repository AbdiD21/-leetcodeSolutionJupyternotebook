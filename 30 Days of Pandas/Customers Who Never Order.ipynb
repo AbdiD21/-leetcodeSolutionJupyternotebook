{
 "cells": [
  {
   "cell_type": "markdown",
   "id": "13e6b3be",
   "metadata": {},
   "source": [
    "### ***183. Customers Who Never Order***\n"
   ]
  },
  {
   "cell_type": "markdown",
   "id": "39030414",
   "metadata": {},
   "source": [
    "implementation"
   ]
  },
  {
   "cell_type": "code",
   "execution_count": 1,
   "id": "a0bb1c1c",
   "metadata": {},
   "outputs": [],
   "source": [
    "import pandas as pd\n",
    "\n",
    "def find_customers(customers: pd.DataFrame, orders: pd.DataFrame) -> pd.DataFrame:\n",
    "    # Merge customers with orders on customer id, keeping all customers\n",
    "    merged = customers.merge(orders, left_on='id', right_on='customerId', how='left')\n",
    "    # Filter where there is no matching order (customerId is NaN)\n",
    "    result = merged[merged['customerId'].isna()][['name']]\n",
    "    # Rename column as required by output format\n",
    "    result.columns = ['Customers']\n",
    "    return result\n"
   ]
  },
  {
   "cell_type": "markdown",
   "id": "d7d2d2f3",
   "metadata": {},
   "source": [
    "***Time and Space Complexity***"
   ]
  },
  {
   "cell_type": "markdown",
   "id": "fbc49f1f",
   "metadata": {},
   "source": [
    "Time Complexity\n",
    "\n",
    "The main operation in the solution is a left merge (join) between the customers DataFrame (size n) and the orders DataFrame (size m), followed by filtering rows:\n",
    "\n",
    "* Merge Operation:\n",
    "\n",
    "    * In pandas, a merge (join) operation on unsorted data typically takes O(n+m) time if the join columns are indexed (hashed join), or up to O(nlog⁡n+mlog⁡m) if sorting is required.\n",
    "\n",
    "    * For this problem, assuming the join columns are not pre-indexed, the expected time complexity is O(n+m) due to hashing.\n",
    "\n",
    "    Filtering:\n",
    "\n",
    "    * After the merge, filtering for NaN values in a column is O(n), since it scans each row once.\n",
    "\n",
    "Total Time Complexity:\n",
    "O(n+m)\n",
    "O(n+m)\n",
    "\n",
    "Space Complexity\n",
    "\n",
    "* Merge Result:\n",
    "\n",
    "    * The merged DataFrame will have up to n rows (since it's a left join with customers as the left table) and columns from both tables, so the space is O(n).\n",
    "\n",
    "    Output DataFrame:\n",
    "\n",
    "    * The output DataFrame contains only the names of customers who never ordered, which is at most n, so space is O(n).\n",
    "\n",
    "Total Space Complexity:\n",
    "\n",
    "* O(n+m)\n",
    "* O(n+m)\n",
    "\n",
    "\n",
    "Overall:\n",
    "\n",
    "* Time: O(n+m)\n",
    "\n",
    "* Space: O(n+m)\n"
   ]
  },
  {
   "cell_type": "markdown",
   "id": "a5b794dc",
   "metadata": {},
   "source": [
    "**Example Usage**"
   ]
  },
  {
   "cell_type": "code",
   "execution_count": null,
   "id": "18515e48",
   "metadata": {},
   "outputs": [],
   "source": [
    "import pandas as pd\n",
    "\n",
    "# Sample data as per the example\n",
    "customers = pd.DataFrame({\n",
    "    'id': [1, 2, 3, 4],\n",
    "    'name': ['Joe', 'Henry', 'Sam', 'Max']\n",
    "})\n",
    "\n",
    "orders = pd.DataFrame({\n",
    "    'id': [1, 2],\n",
    "    'customerId': [3, 1]\n",
    "})\n",
    "\n",
    "def find_customers(customers: pd.DataFrame, orders: pd.DataFrame) -> pd.DataFrame:\n",
    "    merged = customers.merge(orders, left_on='id', right_on='customerId', how='left')\n",
    "    result = merged[merged['customerId'].isna()][['name']]\n",
    "    result.columns = ['Customers']\n",
    "    return result\n",
    "\n",
    "# Usage\n",
    "output = find_customers(customers, orders)\n",
    "print(output)\n"
   ]
  }
 ],
 "metadata": {
  "kernelspec": {
   "display_name": "Python 3",
   "language": "python",
   "name": "python3"
  },
  "language_info": {
   "codemirror_mode": {
    "name": "ipython",
    "version": 3
   },
   "file_extension": ".py",
   "mimetype": "text/x-python",
   "name": "python",
   "nbconvert_exporter": "python",
   "pygments_lexer": "ipython3",
   "version": "3.13.2"
  }
 },
 "nbformat": 4,
 "nbformat_minor": 5
}
