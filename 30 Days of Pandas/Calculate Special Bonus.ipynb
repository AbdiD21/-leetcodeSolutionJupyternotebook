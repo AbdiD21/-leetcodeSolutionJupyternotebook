{
 "cells": [
  {
   "cell_type": "markdown",
   "id": "b88fe9d0",
   "metadata": {},
   "source": [
    "### ***1873. Calculate Special Bonus***\n"
   ]
  },
  {
   "cell_type": "code",
   "execution_count": 1,
   "id": "36fbd4cc",
   "metadata": {},
   "outputs": [],
   "source": [
    "import pandas as pd\n",
    "\n",
    "def calculate_special_bonus(employees: pd.DataFrame) -> pd.DataFrame:\n",
    "    # Apply the bonus rule: 100% salary if employee_id is odd and name does not start with 'M', else 0\n",
    "    employees['bonus'] = employees.apply(\n",
    "        lambda row: row['salary'] if row['employee_id'] % 2 == 1 and not row['name'].startswith('M') else 0,\n",
    "        axis=1\n",
    "    )\n",
    "    # Return only the required columns, sorted by employee_id\n",
    "    return employees[['employee_id', 'bonus']].sort_values('employee_id')\n"
   ]
  },
  {
   "cell_type": "markdown",
   "id": "144d1c95",
   "metadata": {},
   "source": [
    "**Time and Space Complexity**"
   ]
  },
  {
   "cell_type": "markdown",
   "id": "e6eec986",
   "metadata": {},
   "source": [
    " ##### Time Complexity\n",
    "\n",
    "The function applies a lambda function to each row of the DataFrame using apply(..., axis=1):\n",
    "\n",
    "- Let n be the number of employees (i.e., number of rows in the DataFrame).\n",
    "\n",
    "- For each row, the lambda does constant-time operations:\n",
    "\n",
    "    - Modulus: row['employee_id'] % 2\n",
    "\n",
    "    - String check: row['name'].startswith('M')\n",
    "\n",
    "    - Conditional check and possibly returning row['salary']\n",
    "\n",
    "So, total operations = O(n)\n",
    "\n",
    " - Sorting the DataFrame by employee_id takes O(n log n) time in the worst case.\n",
    "\n",
    "**Total Time Complexity: O(n log n)**\n",
    "\n",
    "\n",
    "##### Space Complexity\n",
    "\n",
    "- A new bonus column is added → this takes O(n) extra space.\n",
    "\n",
    "- Sorting returns a new DataFrame or view, which also takes O(n) space in the worst case.\n",
    "\n",
    "**Total Space Complexity: O(n)**"
   ]
  },
  {
   "cell_type": "markdown",
   "id": "88f6e5bf",
   "metadata": {},
   "source": [
    "Summary\n",
    "\n",
    "* Time Complexity: O(n log n)\n",
    "\n",
    "* Space Complexity: O(n)"
   ]
  },
  {
   "cell_type": "markdown",
   "id": "efff6fda",
   "metadata": {},
   "source": [
    "**Example Usage**"
   ]
  },
  {
   "cell_type": "code",
   "execution_count": 3,
   "id": "29892ac1",
   "metadata": {},
   "outputs": [
    {
     "name": "stdout",
     "output_type": "stream",
     "text": [
      "   employee_id  bonus\n",
      "0            1   1000\n",
      "1            2      0\n",
      "2            3      0\n",
      "3            4      0\n",
      "4            5      0\n"
     ]
    }
   ],
   "source": [
    "import pandas as pd\n",
    "\n",
    "# Example employee data\n",
    "data = {\n",
    "    'employee_id': [1, 2, 3, 4, 5],\n",
    "    'name': ['Alice', 'Bob', 'Mona', 'David', 'Mike'],\n",
    "    'salary': [1000, 1500, 1200, 1100, 1300]\n",
    "}\n",
    "\n",
    "employees = pd.DataFrame(data)\n",
    "\n",
    "# Calculate special bonus\n",
    "result = calculate_special_bonus(employees)\n",
    "\n",
    "print(result)\n"
   ]
  }
 ],
 "metadata": {
  "kernelspec": {
   "display_name": "Python 3",
   "language": "python",
   "name": "python3"
  },
  "language_info": {
   "codemirror_mode": {
    "name": "ipython",
    "version": 3
   },
   "file_extension": ".py",
   "mimetype": "text/x-python",
   "name": "python",
   "nbconvert_exporter": "python",
   "pygments_lexer": "ipython3",
   "version": "3.13.2"
  }
 },
 "nbformat": 4,
 "nbformat_minor": 5
}
