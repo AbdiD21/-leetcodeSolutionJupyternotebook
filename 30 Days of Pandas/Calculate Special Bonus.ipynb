{
 "cells": [
  {
   "cell_type": "markdown",
   "id": "b88fe9d0",
   "metadata": {},
   "source": [
    "### ***1873. Calculate Special Bonus***\n"
   ]
  },
  {
   "cell_type": "code",
   "execution_count": 1,
   "id": "36fbd4cc",
   "metadata": {},
   "outputs": [],
   "source": [
    "import pandas as pd\n",
    "\n",
    "def calculate_special_bonus(employees: pd.DataFrame) -> pd.DataFrame:\n",
    "    # Apply the bonus rule: 100% salary if employee_id is odd and name does not start with 'M', else 0\n",
    "    employees['bonus'] = employees.apply(\n",
    "        lambda row: row['salary'] if row['employee_id'] % 2 == 1 and not row['name'].startswith('M') else 0,\n",
    "        axis=1\n",
    "    )\n",
    "    # Return only the required columns, sorted by employee_id\n",
    "    return employees[['employee_id', 'bonus']].sort_values('employee_id')\n"
   ]
  },
  {
   "cell_type": "markdown",
   "id": "efff6fda",
   "metadata": {},
   "source": [
    "**Example Usage**"
   ]
  },
  {
   "cell_type": "code",
   "execution_count": null,
   "id": "29892ac1",
   "metadata": {},
   "outputs": [],
   "source": [
    "import pandas as pd\n",
    "\n",
    "# Example employee data\n",
    "data = {\n",
    "    'employee_id': [1, 2, 3, 4, 5],\n",
    "    'name': ['Alice', 'Bob', 'Mona', 'David', 'Mike'],\n",
    "    'salary': [1000, 1500, 1200, 1100, 1300]\n",
    "}\n",
    "\n",
    "employees = pd.DataFrame(data)\n",
    "\n",
    "# Calculate special bonus\n",
    "result = calculate_special_bonus(employees)\n",
    "\n",
    "print(result)\n"
   ]
  }
 ],
 "metadata": {
  "kernelspec": {
   "display_name": "Python 3",
   "language": "python",
   "name": "python3"
  },
  "language_info": {
   "codemirror_mode": {
    "name": "ipython",
    "version": 3
   },
   "file_extension": ".py",
   "mimetype": "text/x-python",
   "name": "python",
   "nbconvert_exporter": "python",
   "pygments_lexer": "ipython3",
   "version": "3.13.2"
  }
 },
 "nbformat": 4,
 "nbformat_minor": 5
}
